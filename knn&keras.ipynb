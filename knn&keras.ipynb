{
  "nbformat": 4,
  "nbformat_minor": 0,
  "metadata": {
    "colab": {
      "name": "knn&keras.ipynb",
      "provenance": []
    },
    "kernelspec": {
      "name": "python3",
      "display_name": "Python 3"
    }
  },
  "cells": [
    {
      "cell_type": "code",
      "metadata": {
        "id": "Fj6AOXOOq6-h"
      },
      "source": [
        "import pandas as pd\n",
        "import random\n",
        "from random import sample"
      ],
      "execution_count": null,
      "outputs": []
    },
    {
      "cell_type": "code",
      "metadata": {
        "id": "dFV3ulVgq9Jy"
      },
      "source": [
        "up = pd.read_csv(\"/Users/pangyuan/Desktop/up2三天_output.csv\")\n",
        "down = pd.read_csv(\"/Users/pangyuan/Desktop/down2三天_output.csv\")"
      ],
      "execution_count": null,
      "outputs": []
    },
    {
      "cell_type": "code",
      "metadata": {
        "id": "lLlg0vAWq9Gg"
      },
      "source": [
        "up_word = pd.read_csv(\"/Users/pangyuan/Desktop/up_diff-2.csv\")\n",
        "down_word = pd.read_csv(\"/Users/pangyuan/Desktop/down_diff-2.csv\")\n",
        "same_word = pd.read_csv(\"/Users/pangyuan/Desktop/same.csv\")"
      ],
      "execution_count": null,
      "outputs": []
    },
    {
      "cell_type": "code",
      "metadata": {
        "id": "oUSXcg2Xq9Dy"
      },
      "source": [
        "up[\"Target\"] = 1\n",
        "down[\"Target\"] = 0\n",
        "all_data = pd.concat([up,down])\n",
        "all_data = all_data.dropna()\n",
        "\n",
        "final_data = all_data.sample(n = 100000)\n",
        "Target = final_data[\"Target\"]"
      ],
      "execution_count": null,
      "outputs": []
    },
    {
      "cell_type": "code",
      "metadata": {
        "id": "j301mRnfq9BL"
      },
      "source": [
        "words = []\n",
        "for i in up_word:\n",
        "    words.append(i)\n",
        "for i in down_word:\n",
        "    words.append(i)\n",
        "for i in same_word:\n",
        "    words.append(i)"
      ],
      "execution_count": null,
      "outputs": []
    },
    {
      "cell_type": "code",
      "metadata": {
        "id": "nesXviKIq8-z"
      },
      "source": [
        "z = []\n",
        "for i in (final_data[\"title\"] + final_data[\"content\"]):\n",
        "    y = []\n",
        "    for j in words:\n",
        "        x = 0\n",
        "        if j in i:\n",
        "            x += i.count(j)\n",
        "        y.append(x)\n",
        "    z.append(y)"
      ],
      "execution_count": null,
      "outputs": []
    },
    {
      "cell_type": "code",
      "metadata": {
        "id": "s-gf_RS3q88d"
      },
      "source": [
        "from sklearn import datasets\n",
        "from sklearn.model_selection import train_test_split\n",
        "from sklearn.neighbors import KNeighborsClassifier\n",
        "import numpy as np"
      ],
      "execution_count": null,
      "outputs": []
    },
    {
      "cell_type": "code",
      "metadata": {
        "id": "1MOQ_Umbq86F"
      },
      "source": [
        "train_data , test_data , train_label , test_label = train_test_split(z, Target,test_size=0.2)"
      ],
      "execution_count": null,
      "outputs": []
    },
    {
      "cell_type": "code",
      "metadata": {
        "id": "FdHKX51Eq83i"
      },
      "source": [
        "knn = KNeighborsClassifier()"
      ],
      "execution_count": null,
      "outputs": []
    },
    {
      "cell_type": "code",
      "metadata": {
        "id": "J6KvFiidq803"
      },
      "source": [
        "knn.fit(train_data,train_label)"
      ],
      "execution_count": null,
      "outputs": []
    },
    {
      "cell_type": "code",
      "metadata": {
        "id": "I12DIwSjq8yc"
      },
      "source": [
        "pre = (knn.predict(test_data))"
      ],
      "execution_count": null,
      "outputs": []
    },
    {
      "cell_type": "code",
      "metadata": {
        "id": "TgRoXxl-q8wr"
      },
      "source": [
        "list1 = list(test_label)\n",
        "list2 = list(pre)"
      ],
      "execution_count": null,
      "outputs": []
    },
    {
      "cell_type": "code",
      "metadata": {
        "id": "tT5-uO4sq8uA"
      },
      "source": [
        "cc = 0\n",
        "ww = 0\n",
        "cw = 0\n",
        "wc = 0\n",
        "\n",
        "for i in range(len(list1)):\n",
        "    if (list1[i] == list2[i]) and (list1[i] == 1):\n",
        "        cc += 1\n",
        "    elif (list1[i] == list2[i]) and (list1[i] == 0):\n",
        "        ww += 1\n",
        "    elif (list1[i] == 0) and (list1[i]!= list2[i]):\n",
        "        wc += 1\n",
        "    else:\n",
        "        cw += 1"
      ],
      "execution_count": null,
      "outputs": []
    },
    {
      "cell_type": "code",
      "metadata": {
        "id": "20Ec6Pcdq8ri"
      },
      "source": [
        "print(cc, ww, cw, wc)\n",
        "print((cc+ww)/20000)"
      ],
      "execution_count": null,
      "outputs": []
    },
    {
      "cell_type": "code",
      "metadata": {
        "id": "3xwmVEQsq8o-"
      },
      "source": [
        "# vectorize\n",
        "def vectorize_sequences(sequences, dimension = 1000):\n",
        "    results = np.zeros((len(sequences), dimension))\n",
        "    for i, sequence in enumerate(sequences):\n",
        "        results[i, sequence] = 1.\n",
        "    return results"
      ],
      "execution_count": null,
      "outputs": []
    },
    {
      "cell_type": "code",
      "metadata": {
        "id": "TW89J-kfq8mj"
      },
      "source": [
        "x_train = vectorize_sequences(z)\n",
        "y_train = np.asarray(Target).astype('float32')"
      ],
      "execution_count": null,
      "outputs": []
    },
    {
      "cell_type": "code",
      "metadata": {
        "id": "2U-KFnRarbqN"
      },
      "source": [
        "from keras import models\n",
        "from keras import layers\n",
        "\n",
        "model = models.Sequential()\n",
        "model.add(layers.Dense(16, activation='relu'))\n",
        "model.add(layers.Dense(1, activation='sigmoid'))"
      ],
      "execution_count": null,
      "outputs": []
    },
    {
      "cell_type": "code",
      "metadata": {
        "id": "rs-bFT7jrboE"
      },
      "source": [
        "from keras import optimizers\n",
        "model.compile(optimizer='rmsprop', loss='binary_crossentropy', metrics=['accuracy'])"
      ],
      "execution_count": null,
      "outputs": []
    },
    {
      "cell_type": "code",
      "metadata": {
        "id": "UuLV0YDjrbly"
      },
      "source": [
        "x_val = x_train[:20000]\n",
        "partial_x_train = x_train[20000:80000]\n",
        "y_val = y_train[:20000]\n",
        "partial_y_train = y_train[20000:80000]"
      ],
      "execution_count": null,
      "outputs": []
    },
    {
      "cell_type": "code",
      "metadata": {
        "id": "GnYle8sZrbjS"
      },
      "source": [
        "history = model.fit(partial_x_train,\n",
        "                    partial_y_train,\n",
        "                    epochs=10,\n",
        "                    batch_size=512,\n",
        "                    validation_data=(x_val, y_val))"
      ],
      "execution_count": null,
      "outputs": []
    },
    {
      "cell_type": "code",
      "metadata": {
        "id": "cnC8_iq9rbhE"
      },
      "source": [
        "a = model.predict(x_train[80000:])"
      ],
      "execution_count": null,
      "outputs": []
    },
    {
      "cell_type": "code",
      "metadata": {
        "id": "3e2f5B6Zrbeg"
      },
      "source": [
        "for i in a :\n",
        "    print(i)"
      ],
      "execution_count": null,
      "outputs": []
    }
  ]
}
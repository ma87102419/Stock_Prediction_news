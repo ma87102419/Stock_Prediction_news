{
  "nbformat": 4,
  "nbformat_minor": 0,
  "metadata": {
    "colab": {
      "name": "categorize_article.ipynb",
      "provenance": []
    },
    "kernelspec": {
      "name": "python3",
      "display_name": "Python 3"
    }
  },
  "cells": [
    {
      "cell_type": "code",
      "metadata": {
        "id": "3wjNaBfGm45w"
      },
      "source": [
        "import pandas as pd\n",
        "from openpyxl import load_workbook\n",
        "import datetime\n"
      ],
      "execution_count": 2,
      "outputs": []
    },
    {
      "cell_type": "code",
      "metadata": {
        "id": "zackvBnqnXP-"
      },
      "source": [
        "data = pd.read_excel(\"台灣50三天.xlsx\")\n",
        "forum = pd.read_excel(\"forum.xlsm\")"
      ],
      "execution_count": null,
      "outputs": []
    },
    {
      "cell_type": "code",
      "metadata": {
        "id": "lPXsk3XtnZMY"
      },
      "source": [
        "news = pd.read_excel(\"news.xlsx\")"
      ],
      "execution_count": null,
      "outputs": []
    },
    {
      "cell_type": "code",
      "metadata": {
        "id": "tUAeZWOonbch"
      },
      "source": [
        "up = []\n",
        "down = []"
      ],
      "execution_count": null,
      "outputs": []
    },
    {
      "cell_type": "code",
      "metadata": {
        "id": "-apLrTT3nhTu"
      },
      "source": [
        "data.head(10)"
      ],
      "execution_count": null,
      "outputs": []
    },
    {
      "cell_type": "code",
      "metadata": {
        "id": "FHzXELe-njOg"
      },
      "source": [
        "forum.head(10)"
      ],
      "execution_count": null,
      "outputs": []
    },
    {
      "cell_type": "code",
      "metadata": {
        "id": "s0RSIjzEnnbs"
      },
      "source": [
        "# data date 變化\n",
        "date = list(data[\"年月日\"])\n",
        "\n",
        "\n",
        "for i in range(0, len(date)):\n",
        "    date[i] = datetime.datetime.strftime(date[i], '%Y/%m/%d')\n",
        "print(date[4])"
      ],
      "execution_count": null,
      "outputs": []
    },
    {
      "cell_type": "code",
      "metadata": {
        "id": "Ypy5g8IynnZp"
      },
      "source": [
        "print(data[\"年月日\"][1])\n",
        "print(forum[\"post_time\"][3])\n",
        "forum[\"title\"][3]"
      ],
      "execution_count": null,
      "outputs": []
    },
    {
      "cell_type": "code",
      "metadata": {
        "id": "tIduTk6gnnXM"
      },
      "source": [
        "for i in range(242):\n",
        "    if data[\"漲跌\"][i] == 1:\n",
        "        for k in range(9411):\n",
        "            if data[\"年月日\"][i].to_period(\"D\") == forum[\"post_time\"][k].to_period('D'):\n",
        "                up.append([forum[\"date\"][k], forum[\"title\"][k], forum[\"content\"][k]])\n",
        "    elif data[\"漲跌\"][i] == 0:\n",
        "        for k in range(9411):\n",
        "            if data[\"年月日\"][i].to_period(\"D\") == forum[\"post_time\"][k].to_period('D'):\n",
        "                down.append([forum[\"date\"][k], forum[\"title\"][k], forum[\"content\"][k]])"
      ],
      "execution_count": null,
      "outputs": []
    },
    {
      "cell_type": "code",
      "metadata": {
        "id": "ut15KOLNnnUr"
      },
      "source": [
        "print(data[\"年月日\"][2].to_period(\"D\"))\n",
        "for k in range(9411):\n",
        "    if data[\"年月日\"][2].to_period(\"D\") == forum[\"post_time\"][k].to_period('D'):\n",
        "        print(data[\"年月日\"][2].to_period(\"D\"))\n",
        "        print(k)"
      ],
      "execution_count": null,
      "outputs": []
    },
    {
      "cell_type": "code",
      "metadata": {
        "id": "g1_hBlbKnnMS"
      },
      "source": [
        "if data[\"年月日\"][0].to_period('D') == forum[\"post_time\"][22].to_period('D'):\n",
        "    print(\"true\")\n",
        "else:\n",
        "    print(\"false\")\n",
        "print(type(data[\"年月日\"][0]))\n",
        "print(forum[\"post_time\"][22])\n",
        "print(data[\"年月日\"][0])"
      ],
      "execution_count": null,
      "outputs": []
    },
    {
      "cell_type": "code",
      "metadata": {
        "id": "QnqUwvMWnnJY"
      },
      "source": [
        "print(down[:10])"
      ],
      "execution_count": null,
      "outputs": []
    },
    {
      "cell_type": "code",
      "metadata": {
        "id": "D_uRI8KZnnGm"
      },
      "source": [
        "# forum\n",
        "for i in range(242):\n",
        "    if data[\"漲跌\"][i] == 1:\n",
        "        for k in range(9411):\n",
        "            if data[\"年月日\"][i].to_period(\"D\") == forum[\"date\"][k].to_period('D'):\n",
        "                up.append([forum[\"date\"][k], forum[\"title\"][k], forum[\"content\"][k]])\n",
        "    elif data[\"漲跌\"][i] == 0:\n",
        "        for k in range(9411):\n",
        "            if data[\"年月日\"][i].to_period(\"D\") == forum[\"date\"][k].to_period('D'):\n",
        "                down.append([forum[\"date\"][k], forum[\"title\"][k], forum[\"content\"][k]])"
      ],
      "execution_count": null,
      "outputs": []
    },
    {
      "cell_type": "code",
      "metadata": {
        "id": "yUEt3F4fnnDp"
      },
      "source": [
        "# news\n",
        "for i in range(242):\n",
        "    if data[\"漲跌\"][i] == 1:\n",
        "        for k in range(len(news)):\n",
        "            if date[i] == news[\"post_date\"][k]:\n",
        "                up.append([news[\"post_date\"][k], news[\"title\"][k], news[\"content\"][k]])\n",
        "    elif data[\"漲跌\"][i] == 0:\n",
        "        for k in range(len(news)):\n",
        "            if date[i] == news[\"post_date\"][k]:\n",
        "                down.append([news[\"post_date\"][k], news[\"title\"][k], news[\"content\"][k]])\n",
        "print(down[:10])"
      ],
      "execution_count": null,
      "outputs": []
    },
    {
      "cell_type": "code",
      "metadata": {
        "id": "2Ygv_nf4nm1J"
      },
      "source": [
        "doutput = open(\"down三天_output.csv\",\"w\",encoding = \"utf-8\")\n",
        "\n",
        "doutput.write('date\\title\\content\\n')\n",
        "for i in range(len(down)):\n",
        "    for j in range(len(down[i])):\n",
        "        doutput.write(str(down[i][j]))\n",
        "        doutput.write('\\t')\n",
        "    doutput.write('\\n')\n",
        "doutput.close()"
      ],
      "execution_count": null,
      "outputs": []
    },
    {
      "cell_type": "code",
      "metadata": {
        "id": "tEIo16V_nmo7"
      },
      "source": [
        "up[:5]"
      ],
      "execution_count": null,
      "outputs": []
    },
    {
      "cell_type": "code",
      "metadata": {
        "id": "pp8KcX-3n80M"
      },
      "source": [
        "uoutput = open(\"up三天_output.xlsx\",\"w\",encoding = \"utf-8\")\n",
        "\n",
        "uoutput.write('date\\title\\content\\n')\n",
        "for i in range(len(up)):\n",
        "    for j in range(len(up[i])):\n",
        "        uoutput.write(str(up[i][j]))\n",
        "        uoutput.write('\\t')\n",
        "    uoutput.write('\\n')\n",
        "uoutput.close()"
      ],
      "execution_count": null,
      "outputs": []
    },
    {
      "cell_type": "code",
      "metadata": {
        "id": "elT0OoYHn8x9"
      },
      "source": [
        "name=['date','title','content']\n",
        "test=pd.DataFrame(columns=name,data=up)\n",
        "#print(test)\n",
        "test.to_csv('testcsv.csv',encoding='utf-8')"
      ],
      "execution_count": null,
      "outputs": []
    },
    {
      "cell_type": "code",
      "metadata": {
        "id": "riNP1YNln8vW"
      },
      "source": [
        "name=['date','title','content']\n",
        "test=pd.DataFrame(columns=name,data=down)\n",
        "#print(test)\n",
        "test.to_csv('downcsv.csv',encoding='utf-8')"
      ],
      "execution_count": null,
      "outputs": []
    },
    {
      "cell_type": "code",
      "metadata": {
        "id": "BusCRouFn8tI"
      },
      "source": [
        "result = load_workbook(filename = \"up2三天_output.xlsx\")\n",
        "result_sheet = result[\"工作表1\"]\n",
        "for i in range(len(up)):\n",
        "    result_sheet.cell(row=i+2, column=1).value = up[i][0]\n",
        "    result_sheet.cell(row=i+2, column=2).value = up[i][1]\n",
        "    result_sheet.cell(row=i+2, column=3).value = up[i][2]\n",
        "\n",
        "result.save(filename = \"up2三天_output.xlsx\")"
      ],
      "execution_count": null,
      "outputs": []
    },
    {
      "cell_type": "code",
      "metadata": {
        "id": "aKe0apsWn8q0"
      },
      "source": [
        "result = load_workbook(filename = \"down2三天_output.xlsx\")\n",
        "result_sheet = result[\"工作表1\"]\n",
        "for i in range(len(down)):\n",
        "    result_sheet.cell(row=i+2, column=1).value = down[i][0]\n",
        "    result_sheet.cell(row=i+2, column=2).value = down[i][1]\n",
        "    result_sheet.cell(row=i+2, column=3).value = down[i][2]\n",
        "\n",
        "result.save(filename = \"down2三天_output.xlsx\")"
      ],
      "execution_count": null,
      "outputs": []
    }
  ]
}

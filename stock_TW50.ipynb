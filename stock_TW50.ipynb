{
  "nbformat": 4,
  "nbformat_minor": 0,
  "metadata": {
    "colab": {
      "name": "stock_TW50.ipynb",
      "provenance": []
    },
    "kernelspec": {
      "name": "python3",
      "display_name": "Python 3"
    }
  },
  "cells": [
    {
      "cell_type": "code",
      "metadata": {
        "id": "pv4NWPhOs5m0"
      },
      "source": [
        "import pandas as pd\n",
        "from openpyxl import load_workbook"
      ],
      "execution_count": null,
      "outputs": []
    },
    {
      "cell_type": "code",
      "metadata": {
        "id": "iQ1FezfCs-cC"
      },
      "source": [
        "data = pd.read_excel(\"台灣50三天.xlsx\")"
      ],
      "execution_count": null,
      "outputs": []
    },
    {
      "cell_type": "code",
      "metadata": {
        "id": "18FtzM_Js-Zo"
      },
      "source": [
        "data.head(10)"
      ],
      "execution_count": null,
      "outputs": []
    },
    {
      "cell_type": "code",
      "metadata": {
        "id": "Co7qS-Txs-VR"
      },
      "source": [
        "datalist = []\n",
        "for i in range(247):\n",
        "    datalist.append([data[\"年月日\"][i], data[\"收盤價(元)\"][i]])"
      ],
      "execution_count": null,
      "outputs": []
    },
    {
      "cell_type": "code",
      "metadata": {
        "id": "fEwEAv9fs-Su"
      },
      "source": [
        "big_num = 0\n",
        "small_num = 0\n",
        "for i in range(242):\n",
        "    for k in range(1,4):\n",
        "        if datalist[i][1] < datalist[i+k][1]:\n",
        "            big_num += 1\n",
        "        if datalist[i][1] > datalist[i+k][1]:\n",
        "            small_num += 1\n",
        "    if small_num > big_num:\n",
        "        datalist[i].append(\"0\")\n",
        "    elif small_num < big_num:\n",
        "        datalist[i].append(\"1\")\n",
        "    else:\n",
        "        datalist[i].append(\"0.5\")\n",
        "    big_num = 0\n",
        "    small_num = 0"
      ],
      "execution_count": null,
      "outputs": []
    },
    {
      "cell_type": "code",
      "metadata": {
        "id": "xtC3E2Kvs-Q1"
      },
      "source": [
        "datalist[0:10]"
      ],
      "execution_count": null,
      "outputs": []
    },
    {
      "cell_type": "code",
      "metadata": {
        "id": "JLCrjuBTs-Od"
      },
      "source": [
        "result = load_workbook(filename = \"台灣50三天.xlsx\")"
      ],
      "execution_count": null,
      "outputs": []
    },
    {
      "cell_type": "code",
      "metadata": {
        "id": "IF0fo3Qis-MX"
      },
      "source": [
        "result_sheet = result[\"工作表1\"]\n",
        "for i in range(242):\n",
        "    result_sheet.cell(row=i+2, column=3).value = datalist[i][2]"
      ],
      "execution_count": null,
      "outputs": []
    },
    {
      "cell_type": "code",
      "metadata": {
        "id": "t-CF29ess-Jw"
      },
      "source": [
        "result.save(filename = \"台灣50三天.xlsx\")"
      ],
      "execution_count": null,
      "outputs": []
    }
  ]
}